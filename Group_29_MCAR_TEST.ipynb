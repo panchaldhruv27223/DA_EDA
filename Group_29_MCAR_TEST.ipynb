{
 "cells": [
  {
   "cell_type": "markdown",
   "id": "93a35d92-4c66-4b78-be25-adc38d5b39da",
   "metadata": {},
   "source": [
    "# Assignment 2: Check Whether missing values are `MCAR` type  \n",
    "## **Group 29**\n",
    "\n",
    "### Authors:\n",
    "- **Dhruv Panchal** (ID: 202411042)\n",
    "- **Priya Patel** (ID: 202411048)\n",
    "- **Natansh Shah** (ID: 202201445)\n",
    "\n",
    "### Task: Take a dataset and check whether your missing data is MCAR type."
   ]
  },
  {
   "cell_type": "markdown",
   "id": "bcd8508a-6a2e-4f8b-adf2-acc6d174fd6e",
   "metadata": {},
   "source": [
    "## Installing missingpy package"
   ]
  },
  {
   "cell_type": "code",
   "execution_count": 35,
   "id": "f06361ca-d3d2-426d-9da5-76e6a9a9fb6c",
   "metadata": {
    "scrolled": true
   },
   "outputs": [
    {
     "name": "stdout",
     "output_type": "stream",
     "text": [
      "Requirement already satisfied: missingpy in c:\\users\\dhruv\\appdata\\local\\programs\\python\\python39\\lib\\site-packages (0.2.0)Note: you may need to restart the kernel to use updated packages.\n",
      "\n"
     ]
    }
   ],
   "source": [
    "pip install missingpy"
   ]
  },
  {
   "cell_type": "code",
   "execution_count": 65,
   "id": "816b0f8b-c773-46a0-993b-6e6584979f7e",
   "metadata": {},
   "outputs": [],
   "source": [
    "## to run the ipynb file install pre-requisites "
   ]
  },
  {
   "cell_type": "code",
   "execution_count": 67,
   "id": "60a08032-df0b-4536-8492-75cc87e93564",
   "metadata": {},
   "outputs": [
    {
     "name": "stdout",
     "output_type": "stream",
     "text": [
      "Requirement already satisfied: numpy in c:\\users\\dhruv\\appdata\\roaming\\python\\python39\\site-packages (1.23.5)\n",
      "Note: you may need to restart the kernel to use updated packages.\n"
     ]
    }
   ],
   "source": [
    "pip install numpy"
   ]
  },
  {
   "cell_type": "code",
   "execution_count": 68,
   "id": "fd820f8a-9bfb-42b9-aeec-bb31c59ebf49",
   "metadata": {},
   "outputs": [
    {
     "name": "stdout",
     "output_type": "stream",
     "text": [
      "Requirement already satisfied: pandas in c:\\users\\dhruv\\appdata\\local\\programs\\python\\python39\\lib\\site-packages (2.2.0)Note: you may need to restart the kernel to use updated packages.\n",
      "\n",
      "Requirement already satisfied: numpy<2,>=1.22.4 in c:\\users\\dhruv\\appdata\\roaming\\python\\python39\\site-packages (from pandas) (1.23.5)\n",
      "Requirement already satisfied: python-dateutil>=2.8.2 in c:\\users\\dhruv\\appdata\\local\\programs\\python\\python39\\lib\\site-packages (from pandas) (2.8.2)\n",
      "Requirement already satisfied: pytz>=2020.1 in c:\\users\\dhruv\\appdata\\local\\programs\\python\\python39\\lib\\site-packages (from pandas) (2024.1)\n",
      "Requirement already satisfied: tzdata>=2022.7 in c:\\users\\dhruv\\appdata\\local\\programs\\python\\python39\\lib\\site-packages (from pandas) (2024.1)\n",
      "Requirement already satisfied: six>=1.5 in c:\\users\\dhruv\\appdata\\roaming\\python\\python39\\site-packages (from python-dateutil>=2.8.2->pandas) (1.16.0)\n"
     ]
    }
   ],
   "source": [
    "pip install pandas"
   ]
  },
  {
   "cell_type": "code",
   "execution_count": 69,
   "id": "6dec4b90-102c-4873-a3b2-13f7eb02516a",
   "metadata": {},
   "outputs": [
    {
     "name": "stdout",
     "output_type": "stream",
     "text": [
      "Requirement already satisfied: matplotlib in c:\\users\\dhruv\\appdata\\local\\programs\\python\\python39\\lib\\site-packages (3.8.3)\n",
      "Requirement already satisfied: contourpy>=1.0.1 in c:\\users\\dhruv\\appdata\\local\\programs\\python\\python39\\lib\\site-packages (from matplotlib) (1.2.0)\n",
      "Requirement already satisfied: cycler>=0.10 in c:\\users\\dhruv\\appdata\\local\\programs\\python\\python39\\lib\\site-packages (from matplotlib) (0.12.1)\n",
      "Requirement already satisfied: fonttools>=4.22.0 in c:\\users\\dhruv\\appdata\\local\\programs\\python\\python39\\lib\\site-packages (from matplotlib) (4.49.0)\n",
      "Requirement already satisfied: kiwisolver>=1.3.1 in c:\\users\\dhruv\\appdata\\local\\programs\\python\\python39\\lib\\site-packages (from matplotlib) (1.4.5)\n",
      "Requirement already satisfied: numpy<2,>=1.21 in c:\\users\\dhruv\\appdata\\roaming\\python\\python39\\site-packages (from matplotlib) (1.23.5)\n",
      "Requirement already satisfied: packaging>=20.0 in c:\\users\\dhruv\\appdata\\roaming\\python\\python39\\site-packages (from matplotlib) (24.0)\n",
      "Requirement already satisfied: pillow>=8 in c:\\users\\dhruv\\appdata\\local\\programs\\python\\python39\\lib\\site-packages (from matplotlib) (10.2.0)\n",
      "Requirement already satisfied: pyparsing>=2.3.1 in c:\\users\\dhruv\\appdata\\local\\programs\\python\\python39\\lib\\site-packages (from matplotlib) (3.1.1)\n",
      "Requirement already satisfied: python-dateutil>=2.7 in c:\\users\\dhruv\\appdata\\local\\programs\\python\\python39\\lib\\site-packages (from matplotlib) (2.8.2)\n",
      "Requirement already satisfied: importlib-resources>=3.2.0 in c:\\users\\dhruv\\appdata\\local\\programs\\python\\python39\\lib\\site-packages (from matplotlib) (6.1.1)\n",
      "Requirement already satisfied: zipp>=3.1.0 in c:\\users\\dhruv\\appdata\\roaming\\python\\python39\\site-packages (from importlib-resources>=3.2.0->matplotlib) (3.18.1)\n",
      "Requirement already satisfied: six>=1.5 in c:\\users\\dhruv\\appdata\\roaming\\python\\python39\\site-packages (from python-dateutil>=2.7->matplotlib) (1.16.0)\n",
      "Note: you may need to restart the kernel to use updated packages.\n"
     ]
    }
   ],
   "source": [
    "pip install matplotlib"
   ]
  },
  {
   "cell_type": "code",
   "execution_count": 70,
   "id": "76f7242b-6434-4ebc-b2d5-b519e7cf50df",
   "metadata": {},
   "outputs": [
    {
     "name": "stdout",
     "output_type": "stream",
     "text": [
      "Requirement already satisfied: scipy in c:\\users\\dhruv\\appdata\\local\\programs\\python\\python39\\lib\\site-packages (1.12.0)\n",
      "Requirement already satisfied: numpy<1.29.0,>=1.22.4 in c:\\users\\dhruv\\appdata\\roaming\\python\\python39\\site-packages (from scipy) (1.23.5)\n",
      "Note: you may need to restart the kernel to use updated packages.\n"
     ]
    }
   ],
   "source": [
    "pip install scipy"
   ]
  },
  {
   "cell_type": "code",
   "execution_count": 72,
   "id": "5569010c-cfb7-441f-b123-fb21d18c00b7",
   "metadata": {},
   "outputs": [
    {
     "name": "stdout",
     "output_type": "stream",
     "text": [
      "Requirement already satisfied: scikit-learn in c:\\users\\dhruv\\appdata\\local\\programs\\python\\python39\\lib\\site-packages (1.4.1.post1)\n",
      "Requirement already satisfied: numpy<2.0,>=1.19.5 in c:\\users\\dhruv\\appdata\\roaming\\python\\python39\\site-packages (from scikit-learn) (1.23.5)\n",
      "Requirement already satisfied: scipy>=1.6.0 in c:\\users\\dhruv\\appdata\\local\\programs\\python\\python39\\lib\\site-packages (from scikit-learn) (1.12.0)\n",
      "Requirement already satisfied: joblib>=1.2.0 in c:\\users\\dhruv\\appdata\\local\\programs\\python\\python39\\lib\\site-packages (from scikit-learn) (1.3.2)\n",
      "Requirement already satisfied: threadpoolctl>=2.0.0 in c:\\users\\dhruv\\appdata\\local\\programs\\python\\python39\\lib\\site-packages (from scikit-learn) (3.3.0)\n",
      "Note: you may need to restart the kernel to use updated packages.\n"
     ]
    }
   ],
   "source": [
    "pip install scikit-learn"
   ]
  },
  {
   "cell_type": "markdown",
   "id": "5599bfb6-9f87-4509-ab6a-1ff32b94013b",
   "metadata": {},
   "source": [
    "## Importing libraries"
   ]
  },
  {
   "cell_type": "code",
   "execution_count": 1,
   "id": "412b614d-bc5a-45ad-a99e-1b2a06f7a2fd",
   "metadata": {},
   "outputs": [],
   "source": [
    "import pandas as pd \n",
    "import numpy as np\n",
    "import matplotlib.pyplot as plt\n",
    "from scipy.stats import chi2"
   ]
  },
  {
   "cell_type": "markdown",
   "id": "c3c7a9a2-a66d-4ed3-b6a5-9aa56ffd4e83",
   "metadata": {},
   "source": [
    "## Reading the dataset"
   ]
  },
  {
   "cell_type": "code",
   "execution_count": 2,
   "id": "9a72d183-a89e-40ab-bda9-fb481b29024f",
   "metadata": {
    "scrolled": true
   },
   "outputs": [
    {
     "data": {
      "text/html": [
       "<div>\n",
       "<style scoped>\n",
       "    .dataframe tbody tr th:only-of-type {\n",
       "        vertical-align: middle;\n",
       "    }\n",
       "\n",
       "    .dataframe tbody tr th {\n",
       "        vertical-align: top;\n",
       "    }\n",
       "\n",
       "    .dataframe thead th {\n",
       "        text-align: right;\n",
       "    }\n",
       "</style>\n",
       "<table border=\"1\" class=\"dataframe\">\n",
       "  <thead>\n",
       "    <tr style=\"text-align: right;\">\n",
       "      <th></th>\n",
       "      <th>crash_date</th>\n",
       "      <th>crash_time</th>\n",
       "      <th>borough</th>\n",
       "      <th>zip_code</th>\n",
       "      <th>latitude</th>\n",
       "      <th>longitude</th>\n",
       "      <th>location</th>\n",
       "      <th>on_street_name</th>\n",
       "      <th>off_street_name</th>\n",
       "      <th>cross_street_name</th>\n",
       "      <th>...</th>\n",
       "      <th>contributing_factor_vehicle_2</th>\n",
       "      <th>contributing_factor_vehicle_3</th>\n",
       "      <th>contributing_factor_vehicle_4</th>\n",
       "      <th>contributing_factor_vehicle_5</th>\n",
       "      <th>collision_id</th>\n",
       "      <th>vehicle_type_code1</th>\n",
       "      <th>vehicle_type_code2</th>\n",
       "      <th>vehicle_type_code_3</th>\n",
       "      <th>vehicle_type_code_4</th>\n",
       "      <th>vehicle_type_code_5</th>\n",
       "    </tr>\n",
       "  </thead>\n",
       "  <tbody>\n",
       "    <tr>\n",
       "      <th>0</th>\n",
       "      <td>2021-08-05T00:00:00.000</td>\n",
       "      <td>18:17</td>\n",
       "      <td>NaN</td>\n",
       "      <td>NaN</td>\n",
       "      <td>NaN</td>\n",
       "      <td>NaN</td>\n",
       "      <td>NaN</td>\n",
       "      <td>VERRAZANO BRIDGE</td>\n",
       "      <td>NaN</td>\n",
       "      <td>NaN</td>\n",
       "      <td>...</td>\n",
       "      <td>Unspecified</td>\n",
       "      <td>NaN</td>\n",
       "      <td>NaN</td>\n",
       "      <td>NaN</td>\n",
       "      <td>4456746</td>\n",
       "      <td>Sedan</td>\n",
       "      <td>Sedan</td>\n",
       "      <td>NaN</td>\n",
       "      <td>NaN</td>\n",
       "      <td>NaN</td>\n",
       "    </tr>\n",
       "    <tr>\n",
       "      <th>1</th>\n",
       "      <td>2022-03-26T00:00:00.000</td>\n",
       "      <td>16:35</td>\n",
       "      <td>BROOKLYN</td>\n",
       "      <td>11235.0</td>\n",
       "      <td>40.577652</td>\n",
       "      <td>-73.963440</td>\n",
       "      <td>\\n,  \\n(40.577652, -73.96344)</td>\n",
       "      <td>NaN</td>\n",
       "      <td>NaN</td>\n",
       "      <td>3071      BRIGHTON 4 STREET</td>\n",
       "      <td>...</td>\n",
       "      <td>Unspecified</td>\n",
       "      <td>Unspecified</td>\n",
       "      <td>NaN</td>\n",
       "      <td>NaN</td>\n",
       "      <td>4513878</td>\n",
       "      <td>Station Wagon/Sport Utility Vehicle</td>\n",
       "      <td>Sedan</td>\n",
       "      <td>Station Wagon/Sport Utility Vehicle</td>\n",
       "      <td>NaN</td>\n",
       "      <td>NaN</td>\n",
       "    </tr>\n",
       "    <tr>\n",
       "      <th>2</th>\n",
       "      <td>2022-03-26T00:00:00.000</td>\n",
       "      <td>19:50</td>\n",
       "      <td>MANHATTAN</td>\n",
       "      <td>10012.0</td>\n",
       "      <td>40.730145</td>\n",
       "      <td>-73.997810</td>\n",
       "      <td>\\n,  \\n(40.730145, -73.99781)</td>\n",
       "      <td>NaN</td>\n",
       "      <td>NaN</td>\n",
       "      <td>60        WASHINGTON SQUARE SOUTH</td>\n",
       "      <td>...</td>\n",
       "      <td>Unspecified</td>\n",
       "      <td>NaN</td>\n",
       "      <td>NaN</td>\n",
       "      <td>NaN</td>\n",
       "      <td>4513735</td>\n",
       "      <td>E-Bike</td>\n",
       "      <td>BOX VAN</td>\n",
       "      <td>NaN</td>\n",
       "      <td>NaN</td>\n",
       "      <td>NaN</td>\n",
       "    </tr>\n",
       "    <tr>\n",
       "      <th>3</th>\n",
       "      <td>2022-03-26T00:00:00.000</td>\n",
       "      <td>13:19</td>\n",
       "      <td>QUEENS</td>\n",
       "      <td>11420.0</td>\n",
       "      <td>40.674780</td>\n",
       "      <td>-73.806206</td>\n",
       "      <td>\\n,  \\n(40.67478, -73.806206)</td>\n",
       "      <td>ROCKAWAY BOULEVARD</td>\n",
       "      <td>132 STREET</td>\n",
       "      <td>NaN</td>\n",
       "      <td>...</td>\n",
       "      <td>Unspecified</td>\n",
       "      <td>NaN</td>\n",
       "      <td>NaN</td>\n",
       "      <td>NaN</td>\n",
       "      <td>4513958</td>\n",
       "      <td>Station Wagon/Sport Utility Vehicle</td>\n",
       "      <td>Sedan</td>\n",
       "      <td>NaN</td>\n",
       "      <td>NaN</td>\n",
       "      <td>NaN</td>\n",
       "    </tr>\n",
       "    <tr>\n",
       "      <th>4</th>\n",
       "      <td>2022-03-25T00:00:00.000</td>\n",
       "      <td>8:45</td>\n",
       "      <td>BROOKLYN</td>\n",
       "      <td>11230.0</td>\n",
       "      <td>40.624622</td>\n",
       "      <td>-73.975980</td>\n",
       "      <td>\\n,  \\n(40.624622, -73.97598)</td>\n",
       "      <td>NaN</td>\n",
       "      <td>NaN</td>\n",
       "      <td>1175      MC DONALD AVENUE</td>\n",
       "      <td>...</td>\n",
       "      <td>Unspecified</td>\n",
       "      <td>NaN</td>\n",
       "      <td>NaN</td>\n",
       "      <td>NaN</td>\n",
       "      <td>4514367</td>\n",
       "      <td>Sedan</td>\n",
       "      <td>Sedan</td>\n",
       "      <td>NaN</td>\n",
       "      <td>NaN</td>\n",
       "      <td>NaN</td>\n",
       "    </tr>\n",
       "  </tbody>\n",
       "</table>\n",
       "<p>5 rows × 29 columns</p>\n",
       "</div>"
      ],
      "text/plain": [
       "                crash_date crash_time    borough  zip_code   latitude  \\\n",
       "0  2021-08-05T00:00:00.000      18:17        NaN       NaN        NaN   \n",
       "1  2022-03-26T00:00:00.000      16:35   BROOKLYN   11235.0  40.577652   \n",
       "2  2022-03-26T00:00:00.000      19:50  MANHATTAN   10012.0  40.730145   \n",
       "3  2022-03-26T00:00:00.000      13:19     QUEENS   11420.0  40.674780   \n",
       "4  2022-03-25T00:00:00.000       8:45   BROOKLYN   11230.0  40.624622   \n",
       "\n",
       "   longitude                       location      on_street_name  \\\n",
       "0        NaN                            NaN    VERRAZANO BRIDGE   \n",
       "1 -73.963440  \\n,  \\n(40.577652, -73.96344)                 NaN   \n",
       "2 -73.997810  \\n,  \\n(40.730145, -73.99781)                 NaN   \n",
       "3 -73.806206  \\n,  \\n(40.67478, -73.806206)  ROCKAWAY BOULEVARD   \n",
       "4 -73.975980  \\n,  \\n(40.624622, -73.97598)                 NaN   \n",
       "\n",
       "  off_street_name                  cross_street_name  ...  \\\n",
       "0             NaN                                NaN  ...   \n",
       "1             NaN        3071      BRIGHTON 4 STREET  ...   \n",
       "2             NaN  60        WASHINGTON SQUARE SOUTH  ...   \n",
       "3      132 STREET                                NaN  ...   \n",
       "4             NaN         1175      MC DONALD AVENUE  ...   \n",
       "\n",
       "   contributing_factor_vehicle_2  contributing_factor_vehicle_3  \\\n",
       "0                    Unspecified                            NaN   \n",
       "1                    Unspecified                    Unspecified   \n",
       "2                    Unspecified                            NaN   \n",
       "3                    Unspecified                            NaN   \n",
       "4                    Unspecified                            NaN   \n",
       "\n",
       "   contributing_factor_vehicle_4  contributing_factor_vehicle_5  collision_id  \\\n",
       "0                            NaN                            NaN       4456746   \n",
       "1                            NaN                            NaN       4513878   \n",
       "2                            NaN                            NaN       4513735   \n",
       "3                            NaN                            NaN       4513958   \n",
       "4                            NaN                            NaN       4514367   \n",
       "\n",
       "                    vehicle_type_code1  vehicle_type_code2  \\\n",
       "0                                Sedan               Sedan   \n",
       "1  Station Wagon/Sport Utility Vehicle               Sedan   \n",
       "2                               E-Bike             BOX VAN   \n",
       "3  Station Wagon/Sport Utility Vehicle               Sedan   \n",
       "4                                Sedan               Sedan   \n",
       "\n",
       "                   vehicle_type_code_3 vehicle_type_code_4 vehicle_type_code_5  \n",
       "0                                  NaN                 NaN                 NaN  \n",
       "1  Station Wagon/Sport Utility Vehicle                 NaN                 NaN  \n",
       "2                                  NaN                 NaN                 NaN  \n",
       "3                                  NaN                 NaN                 NaN  \n",
       "4                                  NaN                 NaN                 NaN  \n",
       "\n",
       "[5 rows x 29 columns]"
      ]
     },
     "execution_count": 2,
     "metadata": {},
     "output_type": "execute_result"
    }
   ],
   "source": [
    "## reading the dataset \n",
    "## loading the dataset by using the api call (for loading it may take some time and internet connection is mandatory)\n",
    "df = pd.read_csv(\"https://data.cityofnewyork.us/resource/h9gi-nx95.csv?$limit=100000&$offset=150\")\n",
    "df.head()"
   ]
  },
  {
   "cell_type": "code",
   "execution_count": 3,
   "id": "858d22fc",
   "metadata": {},
   "outputs": [],
   "source": [
    "## other option to download dataset\n",
    "## df = pd.read_csv(r\"C:\\Users\\dhruv\\Documents\\DA-IICT\\EDA\\Project\\Motor_Vehicle_Collisions_-_Crashes_20240918.csv\")"
   ]
  },
  {
   "cell_type": "code",
   "execution_count": 4,
   "id": "ce31e078-c45b-462c-a590-89690a2cb6aa",
   "metadata": {},
   "outputs": [
    {
     "data": {
      "text/plain": [
       "100000"
      ]
     },
     "execution_count": 4,
     "metadata": {},
     "output_type": "execute_result"
    }
   ],
   "source": [
    "## total samples in the dataset\n",
    "len(df)"
   ]
  },
  {
   "cell_type": "code",
   "execution_count": 5,
   "id": "ad5880e9-14cd-4fc1-812f-07a2d1da8398",
   "metadata": {},
   "outputs": [
    {
     "name": "stdout",
     "output_type": "stream",
     "text": [
      "<class 'pandas.core.frame.DataFrame'>\n",
      "RangeIndex: 100000 entries, 0 to 99999\n",
      "Data columns (total 29 columns):\n",
      " #   Column                         Non-Null Count   Dtype  \n",
      "---  ------                         --------------   -----  \n",
      " 0   crash_date                     100000 non-null  object \n",
      " 1   crash_time                     100000 non-null  object \n",
      " 2   borough                        65567 non-null   object \n",
      " 3   zip_code                       65556 non-null   float64\n",
      " 4   latitude                       92057 non-null   float64\n",
      " 5   longitude                      92057 non-null   float64\n",
      " 6   location                       92057 non-null   object \n",
      " 7   on_street_name                 72913 non-null   object \n",
      " 8   off_street_name                46357 non-null   object \n",
      " 9   cross_street_name              27086 non-null   object \n",
      " 10  number_of_persons_injured      100000 non-null  int64  \n",
      " 11  number_of_persons_killed       100000 non-null  int64  \n",
      " 12  number_of_pedestrians_injured  100000 non-null  int64  \n",
      " 13  number_of_pedestrians_killed   100000 non-null  int64  \n",
      " 14  number_of_cyclist_injured      100000 non-null  int64  \n",
      " 15  number_of_cyclist_killed       100000 non-null  int64  \n",
      " 16  number_of_motorist_injured     100000 non-null  int64  \n",
      " 17  number_of_motorist_killed      100000 non-null  int64  \n",
      " 18  contributing_factor_vehicle_1  99501 non-null   object \n",
      " 19  contributing_factor_vehicle_2  77371 non-null   object \n",
      " 20  contributing_factor_vehicle_3  10302 non-null   object \n",
      " 21  contributing_factor_vehicle_4  2785 non-null    object \n",
      " 22  contributing_factor_vehicle_5  851 non-null     object \n",
      " 23  collision_id                   100000 non-null  int64  \n",
      " 24  vehicle_type_code1             98799 non-null   object \n",
      " 25  vehicle_type_code2             66708 non-null   object \n",
      " 26  vehicle_type_code_3            9548 non-null    object \n",
      " 27  vehicle_type_code_4            2625 non-null    object \n",
      " 28  vehicle_type_code_5            820 non-null     object \n",
      "dtypes: float64(3), int64(9), object(17)\n",
      "memory usage: 22.1+ MB\n"
     ]
    }
   ],
   "source": [
    "# basic information of the dataset\n",
    "df.info()"
   ]
  },
  {
   "cell_type": "code",
   "execution_count": 6,
   "id": "0c336dc3",
   "metadata": {},
   "outputs": [
    {
     "name": "stdout",
     "output_type": "stream",
     "text": [
      "Number of rows 100000\n",
      "Number of columns 29\n",
      "Total cells 2900000\n"
     ]
    }
   ],
   "source": [
    "# Getting dimensions of the dataset\n",
    "print(\"Number of rows\" , df.shape[0])\n",
    "print(\"Number of columns\" , df.shape[1])\n",
    "print(\"Total cells\" , (df.shape[0]*df.shape[1]))"
   ]
  },
  {
   "cell_type": "markdown",
   "id": "8ac6a388-9c55-4274-900b-887d12fbd6e4",
   "metadata": {},
   "source": [
    "## Understanding Missing Values "
   ]
  },
  {
   "cell_type": "code",
   "execution_count": 7,
   "id": "dda1f9fe-abe4-4cf3-8cea-63d11454c2bb",
   "metadata": {},
   "outputs": [
    {
     "name": "stdout",
     "output_type": "stream",
     "text": [
      "Getting Number of missing values for each coloumns.\n",
      "crash_date                           0\n",
      "crash_time                           0\n",
      "borough                          34433\n",
      "zip_code                         34444\n",
      "latitude                          7943\n",
      "longitude                         7943\n",
      "location                          7943\n",
      "on_street_name                   27087\n",
      "off_street_name                  53643\n",
      "cross_street_name                72914\n",
      "number_of_persons_injured            0\n",
      "number_of_persons_killed             0\n",
      "number_of_pedestrians_injured        0\n",
      "number_of_pedestrians_killed         0\n",
      "number_of_cyclist_injured            0\n",
      "number_of_cyclist_killed             0\n",
      "number_of_motorist_injured           0\n",
      "number_of_motorist_killed            0\n",
      "contributing_factor_vehicle_1      499\n",
      "contributing_factor_vehicle_2    22629\n",
      "contributing_factor_vehicle_3    89698\n",
      "contributing_factor_vehicle_4    97215\n",
      "contributing_factor_vehicle_5    99149\n",
      "collision_id                         0\n",
      "vehicle_type_code1                1201\n",
      "vehicle_type_code2               33292\n",
      "vehicle_type_code_3              90452\n",
      "vehicle_type_code_4              97375\n",
      "vehicle_type_code_5              99180\n",
      "dtype: int64\n",
      "\n",
      "Below is shown the set of columns which have missing values.\n",
      "Index(['borough', 'zip_code', 'latitude', 'longitude', 'location',\n",
      "       'on_street_name', 'off_street_name', 'cross_street_name',\n",
      "       'contributing_factor_vehicle_1', 'contributing_factor_vehicle_2',\n",
      "       'contributing_factor_vehicle_3', 'contributing_factor_vehicle_4',\n",
      "       'contributing_factor_vehicle_5', 'vehicle_type_code1',\n",
      "       'vehicle_type_code2', 'vehicle_type_code_3', 'vehicle_type_code_4',\n",
      "       'vehicle_type_code_5'],\n",
      "      dtype='object')\n"
     ]
    }
   ],
   "source": [
    "# Getting Number of missing values for each coloumns\n",
    "print(\"Getting Number of missing values for each coloumns.\")\n",
    "print(df.isnull().sum(),end=\"\\n\\n\")\n",
    "\n",
    "print(\"Below is shown the set of columns which have missing values.\")\n",
    "columns_with_nulls = df.columns[df.isnull().sum() > 0]\n",
    "print(columns_with_nulls)"
   ]
  },
  {
   "cell_type": "markdown",
   "id": "4ef46c3f-e4b4-42f2-b8f5-fbdeb0f87f6b",
   "metadata": {},
   "source": [
    "## Percentage of missing values for columns"
   ]
  },
  {
   "cell_type": "code",
   "execution_count": 8,
   "id": "cc9d3744-f947-4f1e-a71f-c1041e8c68d5",
   "metadata": {},
   "outputs": [
    {
     "name": "stdout",
     "output_type": "stream",
     "text": [
      "borough                          34.433\n",
      "zip_code                         34.444\n",
      "latitude                          7.943\n",
      "longitude                         7.943\n",
      "location                          7.943\n",
      "on_street_name                   27.087\n",
      "off_street_name                  53.643\n",
      "cross_street_name                72.914\n",
      "contributing_factor_vehicle_1     0.499\n",
      "contributing_factor_vehicle_2    22.629\n",
      "contributing_factor_vehicle_3    89.698\n",
      "contributing_factor_vehicle_4    97.215\n",
      "contributing_factor_vehicle_5    99.149\n",
      "vehicle_type_code1                1.201\n",
      "vehicle_type_code2               33.292\n",
      "vehicle_type_code_3              90.452\n",
      "vehicle_type_code_4              97.375\n",
      "vehicle_type_code_5              99.180\n",
      "dtype: float64\n"
     ]
    }
   ],
   "source": [
    "def getPerMiss(df):\n",
    "    percentage_missing = (df.isnull().sum() / df.shape[0]) * 100\n",
    "\n",
    "    # Filter columns with more than 0% missing data\n",
    "    columns_with_missing = percentage_missing[percentage_missing > 0]\n",
    "    return columns_with_missing\n",
    "\n",
    "columns_with_missing = getPerMiss(df)\n",
    "print(columns_with_missing)"
   ]
  },
  {
   "cell_type": "code",
   "execution_count": 9,
   "id": "b68e6fb0-105d-42fa-b042-b01abf86a1df",
   "metadata": {},
   "outputs": [
    {
     "name": "stdout",
     "output_type": "stream",
     "text": [
      "Chi-square statistic: 877040\n",
      "Degrees of freedom: 1799982\n",
      "P-value: 1.0\n"
     ]
    }
   ],
   "source": [
    "# df : The dataset to test for MCAR.\n",
    "\n",
    "# Define Little's MCAR test function\n",
    "def little_mcar_test(testdata):\n",
    "\n",
    "    n = len(testdata)\n",
    "    # n stores the number of rows in test data\n",
    "\n",
    "\n",
    "    groups = []\n",
    "    #groups is an empty list that will later hold the indicator variables for missing values.\n",
    "\n",
    "\n",
    "    # Loop through each column in testdata.\n",
    "    for col in testdata.columns:\n",
    "        mask = testdata[col].isnull()\n",
    "        # For each column, mask is a boolean array where True is for missing values and False is for non-missing values.\n",
    "\n",
    "        # If any missing data is found\n",
    "        if mask.any():\n",
    "            # convert the boolean mask to integer values\n",
    "            # and reshape it into a column vector\n",
    "            # before appending it to the groups list\n",
    "            groups.append(mask.astype(int).values.reshape(-1, 1))\n",
    "\n",
    "\n",
    "    # If no columns with missing data are found, there's nothing to test\n",
    "    if len(groups) == 0:\n",
    "        raise ValueError(\"No missing data found.\")\n",
    "\n",
    "    # The missing data indicators for all columns are concatenated into a matrix r\n",
    "    r = np.concatenate(groups, axis=1)\n",
    "    # each column represents a different variable\n",
    "    # each row corresponds to an observation\n",
    "\n",
    "\n",
    "    group_stats = r.T @ r\n",
    "    # how many missing values there are in each combination of variables\n",
    "\n",
    "    m = len(groups)\n",
    "    # m is the number of variables with missing data.\n",
    "\n",
    "    df = (n - 1) * m\n",
    "    # df is the degrees of freedom for the chi-square test\n",
    "\n",
    "    chi2_stat = group_stats.trace()\n",
    "    # The chi-square statistic is computed as the sum of diagonal elements of the group_stats matrix\n",
    "\n",
    "    p_value = chi2.sf(chi2_stat, df)\n",
    "\n",
    "    return {\"chi2_stat\": chi2_stat, \"degrees_of_freedom\": df, \"p_value\": p_value}\n",
    "\n",
    "# Perform Little's MCAR test on the testdata\n",
    "result = little_mcar_test(df)\n",
    "\n",
    "# Print the result\n",
    "print(f\"Chi-square statistic: {result['chi2_stat']}\")\n",
    "print(f\"Degrees of freedom: {result['degrees_of_freedom']}\")\n",
    "print(f\"P-value: {result['p_value']}\")\n"
   ]
  },
  {
   "cell_type": "code",
   "execution_count": 10,
   "id": "7c06715d",
   "metadata": {},
   "outputs": [
    {
     "name": "stdout",
     "output_type": "stream",
     "text": [
      "The missing data is MCAR (Missing Completely at Random).\n"
     ]
    }
   ],
   "source": [
    "if result['p_value'] > 0.05:\n",
    "    print(\"The missing data is MCAR (Missing Completely at Random).\")\n",
    "else:\n",
    "    print(\"The missing data is not MCAR.\")"
   ]
  },
  {
   "cell_type": "code",
   "execution_count": 90,
   "id": "f21dc6a1-aba1-47b1-a416-bdafc2363ac4",
   "metadata": {},
   "outputs": [
    {
     "data": {
      "text/plain": [
       "(100000, 29)"
      ]
     },
     "execution_count": 90,
     "metadata": {},
     "output_type": "execute_result"
    }
   ],
   "source": [
    "df.shape"
   ]
  },
  {
   "cell_type": "markdown",
   "id": "04b1a899-dffb-4cf2-989a-99eb58f520d8",
   "metadata": {},
   "source": [
    "## Interpreting the Results\n",
    "\n",
    "#### Chi-square statistic: This indicates the extent to which the actual missing data pattern differs from what would be anticipated if the data were Missing Completely At Random (MCAR).\n",
    "\n",
    "### Degrees of freedom: This refers to the number of independent values used in computing the chi-square statistic.\n",
    "\n",
    "### P-value: A p-value below a specified threshold (usually 0.05) suggests that the data do not meet the MCAR assumption."
   ]
  },
  {
   "cell_type": "markdown",
   "id": "2434947f-d1ca-40fd-900a-f8c28dc04e8f",
   "metadata": {},
   "source": [
    "### Here, we see that the P value is much greater than 0.05. So we can say that the missing values in the taken dataset are MCAR (Missing completely at random)"
   ]
  },
  {
   "cell_type": "markdown",
   "id": "895d28eb-7a1d-4c3f-887a-19477139774b",
   "metadata": {},
   "source": [
    "## Concerns and Issues Regarding the `missingpy` package.\n",
    "- This `missingpy` package is deprecated and is no longer in use now.\n",
    "- It also uses ancient versions of `scikit-learn`, `scipy` and `numpy` package which were releaed on 2018 and are incompatible with Python 3.10 (current version of Python running on Colab)\n",
    "- Hence, it is impossible to resolve all dependencies and install the `missingpy` package and use it successfully.\n",
    "- It can be done in a Conda environment where we can specify the Python version along with the libraries we need to install when we are making a new environment.\n",
    "- The last supported Python version by the `missingpy` package is Python 3.7 and the current version of Python in Google Colab is Python 3.10 and hence, the interoperability between both versions is null.\n",
    "- However, the functionalities that `missingpy` package provides i.e. `KNNImputer` both have been now added to the `scikit-learn` package and we can use both of those Imputation strategies directly from the `scikit-learn` package without depending on the `missingpy` package."
   ]
  },
  {
   "cell_type": "markdown",
   "id": "52436458-1128-4ea5-8d5b-ac5d4bdc5133",
   "metadata": {},
   "source": [
    "## we can impute this missing values by using the sklearn library "
   ]
  },
  {
   "cell_type": "markdown",
   "id": "0fb4d531-8db6-4876-93c5-5b4712792447",
   "metadata": {},
   "source": [
    "### KNN Imputation using sklearn"
   ]
  },
  {
   "cell_type": "code",
   "execution_count": 75,
   "id": "43aac977-fea2-486e-9328-bc2a33e5e0d6",
   "metadata": {},
   "outputs": [],
   "source": [
    "from sklearn.impute import KNNImputer"
   ]
  },
  {
   "cell_type": "code",
   "execution_count": 74,
   "id": "5fa5baed-7f00-4b90-aea4-6fa23782b2d0",
   "metadata": {
    "scrolled": true
   },
   "outputs": [
    {
     "data": {
      "text/html": [
       "<div>\n",
       "<style scoped>\n",
       "    .dataframe tbody tr th:only-of-type {\n",
       "        vertical-align: middle;\n",
       "    }\n",
       "\n",
       "    .dataframe tbody tr th {\n",
       "        vertical-align: top;\n",
       "    }\n",
       "\n",
       "    .dataframe thead th {\n",
       "        text-align: right;\n",
       "    }\n",
       "</style>\n",
       "<table border=\"1\" class=\"dataframe\">\n",
       "  <thead>\n",
       "    <tr style=\"text-align: right;\">\n",
       "      <th></th>\n",
       "      <th>crash_date</th>\n",
       "      <th>crash_time</th>\n",
       "      <th>borough</th>\n",
       "      <th>zip_code</th>\n",
       "      <th>latitude</th>\n",
       "      <th>longitude</th>\n",
       "      <th>location</th>\n",
       "      <th>on_street_name</th>\n",
       "      <th>off_street_name</th>\n",
       "      <th>cross_street_name</th>\n",
       "      <th>...</th>\n",
       "      <th>contributing_factor_vehicle_2</th>\n",
       "      <th>contributing_factor_vehicle_3</th>\n",
       "      <th>contributing_factor_vehicle_4</th>\n",
       "      <th>contributing_factor_vehicle_5</th>\n",
       "      <th>collision_id</th>\n",
       "      <th>vehicle_type_code1</th>\n",
       "      <th>vehicle_type_code2</th>\n",
       "      <th>vehicle_type_code_3</th>\n",
       "      <th>vehicle_type_code_4</th>\n",
       "      <th>vehicle_type_code_5</th>\n",
       "    </tr>\n",
       "  </thead>\n",
       "  <tbody>\n",
       "    <tr>\n",
       "      <th>0</th>\n",
       "      <td>2021-08-05T00:00:00.000</td>\n",
       "      <td>18:17</td>\n",
       "      <td>NaN</td>\n",
       "      <td>NaN</td>\n",
       "      <td>NaN</td>\n",
       "      <td>NaN</td>\n",
       "      <td>NaN</td>\n",
       "      <td>VERRAZANO BRIDGE</td>\n",
       "      <td>NaN</td>\n",
       "      <td>NaN</td>\n",
       "      <td>...</td>\n",
       "      <td>Unspecified</td>\n",
       "      <td>NaN</td>\n",
       "      <td>NaN</td>\n",
       "      <td>NaN</td>\n",
       "      <td>4456746</td>\n",
       "      <td>Sedan</td>\n",
       "      <td>Sedan</td>\n",
       "      <td>NaN</td>\n",
       "      <td>NaN</td>\n",
       "      <td>NaN</td>\n",
       "    </tr>\n",
       "    <tr>\n",
       "      <th>1</th>\n",
       "      <td>2022-03-26T00:00:00.000</td>\n",
       "      <td>16:35</td>\n",
       "      <td>BROOKLYN</td>\n",
       "      <td>11235.0</td>\n",
       "      <td>40.577652</td>\n",
       "      <td>-73.96344</td>\n",
       "      <td>\\n,  \\n(40.577652, -73.96344)</td>\n",
       "      <td>NaN</td>\n",
       "      <td>NaN</td>\n",
       "      <td>3071      BRIGHTON 4 STREET</td>\n",
       "      <td>...</td>\n",
       "      <td>Unspecified</td>\n",
       "      <td>Unspecified</td>\n",
       "      <td>NaN</td>\n",
       "      <td>NaN</td>\n",
       "      <td>4513878</td>\n",
       "      <td>Station Wagon/Sport Utility Vehicle</td>\n",
       "      <td>Sedan</td>\n",
       "      <td>Station Wagon/Sport Utility Vehicle</td>\n",
       "      <td>NaN</td>\n",
       "      <td>NaN</td>\n",
       "    </tr>\n",
       "    <tr>\n",
       "      <th>2</th>\n",
       "      <td>2022-03-26T00:00:00.000</td>\n",
       "      <td>19:50</td>\n",
       "      <td>MANHATTAN</td>\n",
       "      <td>10012.0</td>\n",
       "      <td>40.730145</td>\n",
       "      <td>-73.99781</td>\n",
       "      <td>\\n,  \\n(40.730145, -73.99781)</td>\n",
       "      <td>NaN</td>\n",
       "      <td>NaN</td>\n",
       "      <td>60        WASHINGTON SQUARE SOUTH</td>\n",
       "      <td>...</td>\n",
       "      <td>Unspecified</td>\n",
       "      <td>NaN</td>\n",
       "      <td>NaN</td>\n",
       "      <td>NaN</td>\n",
       "      <td>4513735</td>\n",
       "      <td>E-Bike</td>\n",
       "      <td>BOX VAN</td>\n",
       "      <td>NaN</td>\n",
       "      <td>NaN</td>\n",
       "      <td>NaN</td>\n",
       "    </tr>\n",
       "  </tbody>\n",
       "</table>\n",
       "<p>3 rows × 29 columns</p>\n",
       "</div>"
      ],
      "text/plain": [
       "                crash_date crash_time    borough  zip_code   latitude  \\\n",
       "0  2021-08-05T00:00:00.000      18:17        NaN       NaN        NaN   \n",
       "1  2022-03-26T00:00:00.000      16:35   BROOKLYN   11235.0  40.577652   \n",
       "2  2022-03-26T00:00:00.000      19:50  MANHATTAN   10012.0  40.730145   \n",
       "\n",
       "   longitude                       location    on_street_name off_street_name  \\\n",
       "0        NaN                            NaN  VERRAZANO BRIDGE             NaN   \n",
       "1  -73.96344  \\n,  \\n(40.577652, -73.96344)               NaN             NaN   \n",
       "2  -73.99781  \\n,  \\n(40.730145, -73.99781)               NaN             NaN   \n",
       "\n",
       "                   cross_street_name  ...  contributing_factor_vehicle_2  \\\n",
       "0                                NaN  ...                    Unspecified   \n",
       "1        3071      BRIGHTON 4 STREET  ...                    Unspecified   \n",
       "2  60        WASHINGTON SQUARE SOUTH  ...                    Unspecified   \n",
       "\n",
       "   contributing_factor_vehicle_3  contributing_factor_vehicle_4  \\\n",
       "0                            NaN                            NaN   \n",
       "1                    Unspecified                            NaN   \n",
       "2                            NaN                            NaN   \n",
       "\n",
       "   contributing_factor_vehicle_5  collision_id  \\\n",
       "0                            NaN       4456746   \n",
       "1                            NaN       4513878   \n",
       "2                            NaN       4513735   \n",
       "\n",
       "                    vehicle_type_code1  vehicle_type_code2  \\\n",
       "0                                Sedan               Sedan   \n",
       "1  Station Wagon/Sport Utility Vehicle               Sedan   \n",
       "2                               E-Bike             BOX VAN   \n",
       "\n",
       "                   vehicle_type_code_3 vehicle_type_code_4 vehicle_type_code_5  \n",
       "0                                  NaN                 NaN                 NaN  \n",
       "1  Station Wagon/Sport Utility Vehicle                 NaN                 NaN  \n",
       "2                                  NaN                 NaN                 NaN  \n",
       "\n",
       "[3 rows x 29 columns]"
      ]
     },
     "execution_count": 74,
     "metadata": {},
     "output_type": "execute_result"
    }
   ],
   "source": [
    "df.head(3)"
   ]
  },
  {
   "cell_type": "code",
   "execution_count": 85,
   "id": "ef4eb0ed-3f9e-4ee9-9701-515ca7bb1e07",
   "metadata": {},
   "outputs": [
    {
     "data": {
      "text/plain": [
       "crash_date                        object\n",
       "crash_time                        object\n",
       "borough                           object\n",
       "zip_code                         float64\n",
       "latitude                         float64\n",
       "longitude                        float64\n",
       "location                          object\n",
       "on_street_name                    object\n",
       "off_street_name                   object\n",
       "cross_street_name                 object\n",
       "number_of_persons_injured          int64\n",
       "number_of_persons_killed           int64\n",
       "number_of_pedestrians_injured      int64\n",
       "number_of_pedestrians_killed       int64\n",
       "number_of_cyclist_injured          int64\n",
       "number_of_cyclist_killed           int64\n",
       "number_of_motorist_injured         int64\n",
       "number_of_motorist_killed          int64\n",
       "contributing_factor_vehicle_1     object\n",
       "contributing_factor_vehicle_2     object\n",
       "contributing_factor_vehicle_3     object\n",
       "contributing_factor_vehicle_4     object\n",
       "contributing_factor_vehicle_5     object\n",
       "collision_id                       int64\n",
       "vehicle_type_code1                object\n",
       "vehicle_type_code2                object\n",
       "vehicle_type_code_3               object\n",
       "vehicle_type_code_4               object\n",
       "vehicle_type_code_5               object\n",
       "dtype: object"
      ]
     },
     "execution_count": 85,
     "metadata": {},
     "output_type": "execute_result"
    }
   ],
   "source": [
    "df.dtypes"
   ]
  },
  {
   "cell_type": "code",
   "execution_count": 86,
   "id": "a6674a70-10d6-4547-97a2-a928f5ec1f76",
   "metadata": {},
   "outputs": [
    {
     "data": {
      "text/plain": [
       "array(['zip_code', 'latitude', 'longitude', 'number_of_persons_injured',\n",
       "       'number_of_persons_killed', 'number_of_pedestrians_injured',\n",
       "       'number_of_pedestrians_killed', 'number_of_cyclist_injured',\n",
       "       'number_of_cyclist_killed', 'number_of_motorist_injured',\n",
       "       'number_of_motorist_killed', 'collision_id'], dtype=object)"
      ]
     },
     "execution_count": 86,
     "metadata": {},
     "output_type": "execute_result"
    }
   ],
   "source": [
    "numerical_columns = df.select_dtypes(\"number\").columns.values\n",
    "numerical_columns"
   ]
  },
  {
   "cell_type": "code",
   "execution_count": 87,
   "id": "c31419c0-e317-48de-bb91-c5e77e7a1ea4",
   "metadata": {},
   "outputs": [
    {
     "name": "stdout",
     "output_type": "stream",
     "text": [
      "Imputed Dataset Using KNN:\n",
      "       zip_code   latitude  longitude  number_of_persons_injured  \\\n",
      "0       10308.0  40.564820 -74.138407                        0.0   \n",
      "1       11235.0  40.577652 -73.963440                        0.0   \n",
      "2       10012.0  40.730145 -73.997810                        1.0   \n",
      "3       11420.0  40.674780 -73.806206                        0.0   \n",
      "4       11230.0  40.624622 -73.975980                        2.0   \n",
      "...         ...        ...        ...                        ...   \n",
      "99995   10456.0  40.824740 -73.908420                        0.0   \n",
      "99996   11385.0  40.691433 -73.890630                        1.0   \n",
      "99997   11435.0  40.714935 -73.816360                        1.0   \n",
      "99998   10922.5  40.739162 -73.785560                        0.0   \n",
      "99999   10025.5  40.848118 -73.930890                        0.0   \n",
      "\n",
      "       number_of_persons_killed  number_of_pedestrians_injured  \\\n",
      "0                           0.0                            0.0   \n",
      "1                           0.0                            0.0   \n",
      "2                           0.0                            0.0   \n",
      "3                           0.0                            0.0   \n",
      "4                           0.0                            0.0   \n",
      "...                         ...                            ...   \n",
      "99995                       0.0                            0.0   \n",
      "99996                       0.0                            1.0   \n",
      "99997                       0.0                            0.0   \n",
      "99998                       0.0                            0.0   \n",
      "99999                       0.0                            0.0   \n",
      "\n",
      "       number_of_pedestrians_killed  number_of_cyclist_injured  \\\n",
      "0                               0.0                        0.0   \n",
      "1                               0.0                        0.0   \n",
      "2                               0.0                        1.0   \n",
      "3                               0.0                        0.0   \n",
      "4                               0.0                        0.0   \n",
      "...                             ...                        ...   \n",
      "99995                           0.0                        0.0   \n",
      "99996                           0.0                        0.0   \n",
      "99997                           0.0                        0.0   \n",
      "99998                           0.0                        0.0   \n",
      "99999                           0.0                        0.0   \n",
      "\n",
      "       number_of_cyclist_killed  number_of_motorist_injured  \\\n",
      "0                           0.0                         0.0   \n",
      "1                           0.0                         0.0   \n",
      "2                           0.0                         0.0   \n",
      "3                           0.0                         0.0   \n",
      "4                           0.0                         2.0   \n",
      "...                         ...                         ...   \n",
      "99995                       0.0                         0.0   \n",
      "99996                       0.0                         0.0   \n",
      "99997                       0.0                         1.0   \n",
      "99998                       0.0                         0.0   \n",
      "99999                       0.0                         0.0   \n",
      "\n",
      "       number_of_motorist_killed  collision_id  \n",
      "0                            0.0     4456746.0  \n",
      "1                            0.0     4513878.0  \n",
      "2                            0.0     4513735.0  \n",
      "3                            0.0     4513958.0  \n",
      "4                            0.0     4514367.0  \n",
      "...                          ...           ...  \n",
      "99995                        0.0     4545207.0  \n",
      "99996                        0.0     4545635.0  \n",
      "99997                        0.0     4545522.0  \n",
      "99998                        0.0     4545085.0  \n",
      "99999                        0.0     4545553.0  \n",
      "\n",
      "[100000 rows x 12 columns]\n"
     ]
    }
   ],
   "source": [
    "knn_imputer = KNNImputer(n_neighbors=2)\n",
    "df_knn_imputed = pd.DataFrame(knn_imputer.fit_transform(df.select_dtypes(\"number\")), columns=numerical_columns)\n",
    "\n",
    "print(\"Imputed Dataset Using KNN:\")\n",
    "print(df_knn_imputed)"
   ]
  },
  {
   "cell_type": "markdown",
   "id": "4960389b-6bb9-4a94-b402-88c46f37304d",
   "metadata": {},
   "source": [
    "## Imputed the missing values for the numerical columns"
   ]
  }
 ],
 "metadata": {
  "kernelspec": {
   "display_name": "Python 3 (ipykernel)",
   "language": "python",
   "name": "python3"
  },
  "language_info": {
   "codemirror_mode": {
    "name": "ipython",
    "version": 3
   },
   "file_extension": ".py",
   "mimetype": "text/x-python",
   "name": "python",
   "nbconvert_exporter": "python",
   "pygments_lexer": "ipython3",
   "version": "3.9.13"
  },
  "widgets": {
   "application/vnd.jupyter.widget-state+json": {
    "state": {},
    "version_major": 2,
    "version_minor": 0
   }
  }
 },
 "nbformat": 4,
 "nbformat_minor": 5
}
